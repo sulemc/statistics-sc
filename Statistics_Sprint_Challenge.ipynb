{
  "nbformat": 4,
  "nbformat_minor": 0,
  "metadata": {
    "colab": {
      "name": "Statistics Sprint Challenge.ipynb",
      "version": "0.3.2",
      "provenance": [],
      "include_colab_link": true
    },
    "kernelspec": {
      "name": "python3",
      "display_name": "Python 3"
    }
  },
  "cells": [
    {
      "cell_type": "markdown",
      "metadata": {
        "id": "view-in-github",
        "colab_type": "text"
      },
      "source": [
        "[View in Colaboratory](https://colab.research.google.com/github/sulemc/statistics-sc/blob/master/Statistics_Sprint_Challenge.ipynb)"
      ]
    },
    {
      "metadata": {
        "id": "9Siy77yANn8h",
        "colab_type": "text"
      },
      "cell_type": "markdown",
      "source": [
        "## **Probability and Statistics**\n",
        "\n",
        "\n",
        "The journey into Statistics this week can be distilled into the following objectives:\n",
        "\n",
        "a) Conduct Quantitative Data Analysis\n",
        "\n",
        "b) Perform Graphical Data Analysis\n",
        "\n",
        "c) Use Statistical Techniques to make quantitative statements on data (encompassing discrete and continuous variables)\n",
        "\n",
        "\n",
        "\n",
        "In this Sprint Challenge, we are going to use the \"Loans\" data set. The data set contains information about applicants who have applied for home loans, their monthly incomes, the loan amount (in 000's) the property type they are seeking, Credit History (0 indicates no credit history) and their associated loan status.\n",
        "\n",
        "\n",
        "\n",
        "The dataset can be retrieved from here: https://www.dropbox.com/s/nmo9vweoscsg328/Loan_Dataset.csv?raw=1\n",
        "\n",
        "Create solutions for the following code blocks. This exercise should take ~ 3 hours.\n",
        "\n",
        "Share with mlsubmissions@lambdaschool.com when finished.\n"
      ]
    },
    {
      "metadata": {
        "id": "uGBw5qIacaoG",
        "colab_type": "code",
        "colab": {}
      },
      "cell_type": "code",
      "source": [
        " LAMBDA SCHOOL\n",
        "#\n",
        "# MACHINE LEARNING\n",
        "#\n",
        "# MIT LICENSE\n",
        "\n",
        "import numpy as np\n",
        "import matplotlib.pyplot as plt"
      ],
      "execution_count": 0,
      "outputs": []
    },
    {
      "metadata": {
        "id": "A9HQ9tiwcKLF",
        "colab_type": "text"
      },
      "cell_type": "markdown",
      "source": [
        "**Step 1:** Examine the data set for any missing values"
      ]
    },
    {
      "metadata": {
        "id": "2lsCzG_bcJCU",
        "colab_type": "code",
        "colab": {}
      },
      "cell_type": "code",
      "source": [
        ""
      ],
      "execution_count": 0,
      "outputs": []
    },
    {
      "metadata": {
        "id": "Q9eVWs40cs7n",
        "colab_type": "text"
      },
      "cell_type": "markdown",
      "source": [
        "**Step 2:** If there are any missing values, treat the misisng values. Here is a article that provides insight into the common methods to deal with missing values:\n",
        "\n",
        "https://towardsdatascience.com/working-with-missing-data-in-machine-learning-9c0a430df4ce\n",
        "\n",
        "Please use the tips provided in the article to deal with missing values"
      ]
    },
    {
      "metadata": {
        "id": "zfh4Bj_ScrwA",
        "colab_type": "code",
        "colab": {}
      },
      "cell_type": "code",
      "source": [
        ""
      ],
      "execution_count": 0,
      "outputs": []
    },
    {
      "metadata": {
        "id": "X3Y42q59edso",
        "colab_type": "text"
      },
      "cell_type": "markdown",
      "source": [
        "**Step 3:**  Conduct Quantitative Data Analysis - Compute summary statistics i.e. Mean, Median, Standard Deviation, Variance for:\n",
        "\n",
        "1) Applicant Income, 2) Total Income = Applicant Income + Coapplicant Income 3) Loan Amount, 4) Loan Term"
      ]
    },
    {
      "metadata": {
        "id": "NwC9D-_DiJU5",
        "colab_type": "code",
        "colab": {}
      },
      "cell_type": "code",
      "source": [
        ""
      ],
      "execution_count": 0,
      "outputs": []
    },
    {
      "metadata": {
        "id": "Wh8LZkxLiKVZ",
        "colab_type": "text"
      },
      "cell_type": "markdown",
      "source": [
        "**Step 4:** Perform Graphical Data Analysis:\n",
        "\n",
        "a) Contruct an ECDF to analyze the distribution of 1) Applicant Income, 2) Total Income = Applicant Income + Coapplicant Income 3) Loan Amount, 4) Loan Term\n",
        "\n",
        "b) Overlay each of the ECDF plots with markers (i.e. Diamonds) depicting the corresponding 25th, 50th and 75th percentiles respectively\n",
        "\n",
        "c) Build Histograms to examine the distribution of 1) Applicant Income, 2) Total Income = Applicant Income + Coapplicant Income 3) Loan Amount, 4) Loan Term\n",
        "\n",
        "d) Create BoxPlots to understand the distribution of 1) Application Income By Gender of Applicant, 2) Application Income By Education of Applicant, 3) Application Income by Employment Type, 4) Loan Amount by Gender of Applicant, 5) Loan Amount by Education of Applicant, 6) Loan Amount by Employment Type\n",
        "\n",
        "e) Construct Bee Swarm Plots to analyze the distribution of 1) Application Income By Gender of Applicant, 2) Application Income By Education of Applicant, 3) Application Income by Employment Type, 4) Loan Amount by Gender of Applicant, 5) Loan Amount by Education of Applicant, 6) Loan Amount by Employment Type\n",
        "\n",
        "g) Plot a Stacked Bar Chart showcasing Count of Applicants by Loan Status and Gender. The Gender attribute is color coded within the stacked bar chart"
      ]
    },
    {
      "metadata": {
        "id": "3AvHQjZWitZe",
        "colab_type": "code",
        "colab": {}
      },
      "cell_type": "code",
      "source": [
        ""
      ],
      "execution_count": 0,
      "outputs": []
    },
    {
      "metadata": {
        "id": "3DE2aZMdPWNX",
        "colab_type": "text"
      },
      "cell_type": "markdown",
      "source": [
        "**Step 5: ** Compute the chances of securing/getting a loan based on Credit History\n",
        "\n",
        "Hint: Will require the use of the crosstab function"
      ]
    },
    {
      "metadata": {
        "id": "m3krOt_kPUQF",
        "colab_type": "code",
        "colab": {}
      },
      "cell_type": "code",
      "source": [
        ""
      ],
      "execution_count": 0,
      "outputs": []
    },
    {
      "metadata": {
        "id": "dVMl5fhvvwLx",
        "colab_type": "text"
      },
      "cell_type": "markdown",
      "source": [
        "**Step 6:** Use Statistical Techniques to make quantitative statements on data\n",
        "\n",
        "**1)** Detect relationships in the Loan dataset. \n",
        "\n",
        "For example: \n",
        "\n",
        "a) Does the 'Applicant Income' and the 'Loan Amount' vary together? Construct a scatter plot that plots the 'Applicant Income' v/s \"Loan Amount\"'. Does the Scatter Plot point to a positive covariance? Now, compute the Covariance. \n",
        "\n",
        "b) Does the 'Total Income' and the 'Loan Amount' vary together? Construct a scatter plot that plots the 'Total Income' v/s \"Loan Amount\"'. Does the Scatter Plot point to a positive covariance? Now, compute the Covariance.\n",
        "\n",
        "c) Are there any other variables that vary together? Construct a scatter plot that plots the respective variables. Does the Scatter Plot point to a positive covariance? Now, compute the Covariance.\n",
        "\n",
        "\n",
        "**2)** Gauge the strength of the relationships\n",
        "\n",
        "For example:\n",
        "\n",
        "a) Compute the Correlation Coefficient between the 2 variable i.e. 'Applicant Income' and the 'Loan Amount'.\n",
        "\n",
        "b) Compute the Correlation Coefficient between the 2 variable i.e. 'Total Income' and the 'Loan Amount'.\n",
        " \n",
        "c) Compute the Correlation Coefficient between the pair of variables you have identied\n",
        "  "
      ]
    },
    {
      "metadata": {
        "id": "i9Tej0OF7jMp",
        "colab_type": "code",
        "colab": {}
      },
      "cell_type": "code",
      "source": [
        ""
      ],
      "execution_count": 0,
      "outputs": []
    },
    {
      "metadata": {
        "id": "cbQ8eZbY7kX1",
        "colab_type": "text"
      },
      "cell_type": "markdown",
      "source": [
        "**Step 7:** Use Statistical Techniques to make quantitative statements on data. We will use a) Spearman's Rank Correlation, b) Chi-Square tables\n",
        "\n",
        "1) Detect relationships amongst categorical, non-linearly related and non-normally distributed variables in the Loan dataset\n",
        "\n",
        "For example: \n",
        "\n",
        "  a) Construct a Scatter Plot of 'Loan Term' amd 'Credit History' to verify that the variables are related non-lineraly. Create a Histogram for \"Loan Term\" and 'Credit History' to ascertain that they are \n",
        "     not-normally distributed. A visual examination of the data proves that 'Loan Term' and 'Credit History' are numeric variables that can be placed in categories.\n",
        "\n",
        "  b) Compute the Spearman's Rank Correlation Coefficient\n",
        "\n",
        "  c) Conduct the Chi-Square test to ascertain how the 'Loan Term' variable is related to 'Credit History'\n",
        "\n",
        "2) Use Spearman's Rank to find the correlation between **other ** categorical, non-linearly related and non-normally distributed variables.\n",
        "\n",
        "*Hint*: There are categorical variables in the dataset that can be coded as numeric values i.e. 0,1"
      ]
    },
    {
      "metadata": {
        "id": "VQhF6diYG1vG",
        "colab_type": "code",
        "colab": {}
      },
      "cell_type": "code",
      "source": [
        ""
      ],
      "execution_count": 0,
      "outputs": []
    },
    {
      "metadata": {
        "id": "5nbnaEsSH18L",
        "colab_type": "text"
      },
      "cell_type": "markdown",
      "source": [
        "**Step 8**: Check for Normality - Check normality by overlaying the 'ECDF' over the 'CDF'.\n",
        "\n",
        "Reference: https://www.andata.at/en/software-blog-reader/why-we-love-the-cdf-and-do-not-like-histograms-that-much.html\n",
        "\n",
        "Does the distribution of 'Applicant Income' follow a normal distribution?\n",
        "\n",
        "Hint: Code Snippet has been provided. Complete the rest of the code.\n",
        "\n"
      ]
    },
    {
      "metadata": {
        "id": "JR5ONv2sJ_RZ",
        "colab_type": "code",
        "colab": {}
      },
      "cell_type": "code",
      "source": [
        "#Function to compute the ECDF\n",
        "def ECDF(input):\n",
        " \n",
        "    # Number of data points\n",
        "    n = len(input)\n",
        "    \n",
        "    # x_data for the ECDF\n",
        "    x_data = np.sort(input)\n",
        "\n",
        "    # y_data for the ECDF\n",
        "    y_data = np.arange(1, n+1) / n\n",
        "\n",
        "    return x_data, y_data\n",
        "  \n",
        "  \n",
        "#Checking the Normality of Data - we will compute the CDF by using np.random.samples to draw samples and then compare with ECDF\n",
        "mean = np.mean(Fill in the code) \n",
        "std = np.std(Fill in the code)\n",
        "\n",
        "\n",
        "#Draw Samples\n",
        "samples = np.random.normal(mean, std, size=10000)\n",
        "\n",
        "\n",
        "#Compute ECDF \n",
        "\n",
        "Fill in the code\n",
        "\n",
        "#Compute CDF\n",
        "\n",
        "Fill in the code\n",
        "\n",
        "\n",
        "# Generate plot\n",
        "\n",
        "Fill in the code\n",
        "\n",
        "# Label the axes\n",
        "plt.xlabel('Applicant Income')\n",
        "plt.ylabel('CDF')\n",
        "           \n",
        "# Show the plot           \n",
        "plt.show()\n",
        "\n",
        "#State your conclusion\n"
      ],
      "execution_count": 0,
      "outputs": []
    },
    {
      "metadata": {
        "id": "AQ9XxEPUXuNH",
        "colab_type": "text"
      },
      "cell_type": "markdown",
      "source": [
        "**Step 9:** Use Statistical Techniques to make quantitative statements on data. \n",
        "\n",
        "What are the chances that the bank fail? \n",
        "\n",
        "Let's assume for every 0 to 1000 mortgage loans the bank makes, a certain number of loans will be defaulted on. The probability of a loan default is p = 0.05 The bank will fail if there are greater than 100 defaults.\n",
        "\n",
        "Hint: Use the techniques applied in Coding Challenge #4\n",
        "\n",
        "\n"
      ]
    },
    {
      "metadata": {
        "id": "gJ1_nhsnXvS7",
        "colab_type": "code",
        "colab": {}
      },
      "cell_type": "code",
      "source": [
        ""
      ],
      "execution_count": 0,
      "outputs": []
    },
    {
      "metadata": {
        "id": "y35jLoV2NNEk",
        "colab_type": "text"
      },
      "cell_type": "markdown",
      "source": [
        "**Step 10**: Publish findings - In this step, you are going to conduct statistical analysis on a dataset from the Data.gov website.\n",
        "\n",
        "1) Pick a dataset (decent size dataset - approx. 10k to 15K records)\n",
        "\n",
        "2) Walk through the statistical analysis journey highlighted within this Sprint Challenge\n",
        "\n",
        "3) Summarize your findings at each step of the statistical analysis journey\n",
        "\n",
        "4) Conclude your the journey with a brief section providing an overview of your findings\n",
        "\n",
        "5) Publish your statistical analysis journey as a blog post\n",
        "\n",
        "6) Include a link to your blog post in your submission\n",
        "\n"
      ]
    }
  ]
}